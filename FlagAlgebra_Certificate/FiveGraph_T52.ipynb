{
 "cells": [
  {
   "cell_type": "code",
   "execution_count": 1,
   "id": "feb9ce31-97f6-4a30-a8a2-2b705d9fde87",
   "metadata": {},
   "outputs": [
    {
     "name": "stdout",
     "output_type": "stream",
     "text": [
      "Base flags generated, their number is 29\n",
      "The relevant ftypes are constructed, their number is 4\n",
      "Block sizes before symmetric/asymmetric change is applied: [1, 2, 16, 6]\n"
     ]
    },
    {
     "name": "stderr",
     "output_type": "stream",
     "text": [
      "Done with mult table for Ftype on 5 points with edges=(01234): : 4it [00:00, 52.41it/s]\n"
     ]
    },
    {
     "name": "stdout",
     "output_type": "stream",
     "text": [
      "Tables finished\n",
      "Constraints finished\n",
      "Running sdp without construction. Used block sizes are [1, 2, 3, 13, 2, 4, -29, -2]\n",
      "CSDP 6.2.0\n",
      "Iter:  0 Ap: 0.00e+00 Pobj:  0.0000000e+00 Ad: 0.00e+00 Dobj:  0.0000000e+00 \n",
      "Iter:  1 Ap: 1.00e+00 Pobj: -3.1586013e+01 Ad: 5.51e-01 Dobj: -9.3196212e-01 \n",
      "Iter:  2 Ap: 1.00e+00 Pobj: -3.0795686e+01 Ad: 9.52e-01 Dobj: -2.3067739e-01 \n",
      "Iter:  3 Ap: 1.00e+00 Pobj: -1.9332613e+01 Ad: 8.10e-01 Dobj: -2.0518037e-01 \n",
      "Iter:  4 Ap: 1.00e+00 Pobj: -9.6652989e+00 Ad: 6.03e-01 Dobj: -1.8886542e-01 \n",
      "Iter:  5 Ap: 1.00e+00 Pobj: -9.2444635e+00 Ad: 7.37e-01 Dobj: -1.6875431e-01 \n",
      "Iter:  6 Ap: 9.48e-01 Pobj: -3.9865769e+00 Ad: 8.62e-01 Dobj: -1.5403406e-01 \n",
      "Iter:  7 Ap: 1.00e+00 Pobj: -1.2086718e+00 Ad: 7.93e-01 Dobj: -1.4952766e-01 \n",
      "Iter:  8 Ap: 1.00e+00 Pobj: -2.8559790e-01 Ad: 8.75e-01 Dobj: -1.5199289e-01 \n",
      "Iter:  9 Ap: 1.00e+00 Pobj: -2.3156053e-01 Ad: 8.57e-01 Dobj: -1.7593067e-01 \n",
      "Iter: 10 Ap: 4.74e-01 Pobj: -2.2841791e-01 Ad: 5.90e-01 Dobj: -1.8029622e-01 \n",
      "Iter: 11 Ap: 1.00e+00 Pobj: -2.1339319e-01 Ad: 6.58e-01 Dobj: -1.8649976e-01 \n",
      "Iter: 12 Ap: 1.00e+00 Pobj: -2.0340143e-01 Ad: 1.00e+00 Dobj: -1.9640872e-01 \n",
      "Iter: 13 Ap: 1.00e+00 Pobj: -2.0037511e-01 Ad: 1.00e+00 Dobj: -1.9937214e-01 \n",
      "Iter: 14 Ap: 1.00e+00 Pobj: -2.0002954e-01 Ad: 1.00e+00 Dobj: -1.9994614e-01 \n",
      "Iter: 15 Ap: 1.00e+00 Pobj: -2.0000665e-01 Ad: 1.00e+00 Dobj: -1.9998928e-01 \n",
      "Iter: 16 Ap: 1.00e+00 Pobj: -2.0000179e-01 Ad: 1.00e+00 Dobj: -1.9999874e-01 \n",
      "Iter: 17 Ap: 1.00e+00 Pobj: -2.0000028e-01 Ad: 1.00e+00 Dobj: -2.0000000e-01 \n",
      "Iter: 18 Ap: 1.00e+00 Pobj: -2.0000003e-01 Ad: 1.00e+00 Dobj: -1.9999998e-01 \n",
      "Iter: 19 Ap: 9.60e-01 Pobj: -2.0000000e-01 Ad: 9.45e-01 Dobj: -2.0000000e-01 \n",
      "Success: SDP solved\n",
      "Primal objective value: -2.0000000e-01 \n",
      "Dual objective value: -2.0000000e-01 \n",
      "Relative primal infeasibility: 1.57e-13 \n",
      "Relative dual infeasibility: 8.35e-10 \n",
      "Real Relative Gap: 9.14e-10 \n",
      "XZ Relative Gap: 3.43e-09 \n",
      "DIMACS error measures: 2.58e-13 0.00e+00 2.42e-09 0.00e+00 9.14e-10 3.43e-09\n",
      "The initial run didn't provide an accurate construction\n",
      "Flattening X matrices\n",
      "This took 0.46770191192626953s\n",
      "Correcting flat X matrices\n",
      "Dimensions:  (8, 51)\n",
      "This took 0.010997295379638672s\n",
      "Unflattening X matrices\n",
      "Linear coefficient is negative: -167281/230400\n",
      "This took 0.000396728515625s\n",
      "Calculating resulting bound\n"
     ]
    },
    {
     "name": "stderr",
     "output_type": "stream",
     "text": [
      "100%|██████████████████████████████████████████████████████████████████████████████████| 4/4 [00:00<00:00, 59.74it/s]"
     ]
    },
    {
     "name": "stdout",
     "output_type": "stream",
     "text": [
      "This took 0.06958484649658203s\n"
     ]
    },
    {
     "name": "stderr",
     "output_type": "stream",
     "text": [
      "\n"
     ]
    },
    {
     "data": {
      "text/plain": [
       "1/5"
      ]
     },
     "execution_count": 1,
     "metadata": {},
     "output_type": "execute_result"
    }
   ],
   "source": [
    "FiveGraphTheory = Theory(\"FiveGraph\", arity=5)\n",
    "\n",
    "T52 = FiveGraphTheory.p(6, edges=[[0, 1, 2, 3, 4], [0, 1, 2, 3, 5], [0, 1, 2, 4, 5]])\n",
    "edge = FiveGraphTheory(5, edges = [[0, 1, 2, 3, 4]])\n",
    "\n",
    "FiveGraphTheory.exclude([T52])\n",
    "\n",
    "FiveGraphTheory.optimize(edge, 7, exact=True,  file=\"FiveGraph_T52_opt\",\n",
    "              denom=1024*15*3*5, slack_threshold=2e-6\n",
    "             )"
   ]
  }
 ],
 "metadata": {
  "kernelspec": {
   "display_name": "SageMath 10.5.beta7",
   "language": "sage",
   "name": "sagemath"
  },
  "language_info": {
   "codemirror_mode": {
    "name": "ipython",
    "version": 3
   },
   "file_extension": ".py",
   "mimetype": "text/x-python",
   "name": "python",
   "nbconvert_exporter": "python",
   "pygments_lexer": "ipython3",
   "version": "3.10.12"
  }
 },
 "nbformat": 4,
 "nbformat_minor": 5
}
