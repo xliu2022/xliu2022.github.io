{
 "cells": [
  {
   "cell_type": "code",
   "execution_count": 1,
   "id": "3c9299b6-38aa-49a8-b845-b5a92c6bc9e9",
   "metadata": {
    "scrolled": true
   },
   "outputs": [
    {
     "name": "stdout",
     "output_type": "stream",
     "text": [
      "Base flags generated, their number is 81\n",
      "The relevant ftypes are constructed, their number is 4\n",
      "Block sizes before symmetric/asymmetric change is applied: [1, 2, 32, 32]\n"
     ]
    },
    {
     "name": "stderr",
     "output_type": "stream",
     "text": [
      "Done with mult table for Ftype on 5 points with edges=(01234): : 4it [00:00, 70.92it/s]\n"
     ]
    },
    {
     "name": "stdout",
     "output_type": "stream",
     "text": [
      "Tables finished\n",
      "Constraints finished\n",
      "Running sdp without construction. Used block sizes are [1, 2, 6, 26, 6, 26, -81, -2]\n",
      "CSDP 6.2.0\n",
      "Iter:  0 Ap: 0.00e+00 Pobj:  0.0000000e+00 Ad: 0.00e+00 Dobj:  0.0000000e+00 \n",
      "Iter:  1 Ap: 1.00e+00 Pobj: -4.8363053e+01 Ad: 4.03e-01 Dobj: -2.6609586e+00 \n",
      "Iter:  2 Ap: 1.00e+00 Pobj: -4.9637082e+01 Ad: 9.43e-01 Dobj: -4.1700459e-01 \n",
      "Iter:  3 Ap: 1.00e+00 Pobj: -4.3132395e+01 Ad: 8.49e-01 Dobj: -3.3169690e-01 \n",
      "Iter:  4 Ap: 8.54e-01 Pobj: -4.2663589e+01 Ad: 8.15e-01 Dobj: -2.6950758e-01 \n",
      "Iter:  5 Ap: 1.00e+00 Pobj: -2.9534363e+01 Ad: 7.35e-01 Dobj: -2.3712771e-01 \n",
      "Iter:  6 Ap: 4.89e-01 Pobj: -2.3561593e+01 Ad: 7.87e-01 Dobj: -2.2912337e-01 \n",
      "Iter:  7 Ap: 7.07e-01 Pobj: -1.5076407e+01 Ad: 6.28e-01 Dobj: -2.2513947e-01 \n",
      "Iter:  8 Ap: 1.00e+00 Pobj: -8.7124410e+00 Ad: 6.66e-01 Dobj: -2.2282365e-01 \n",
      "Iter:  9 Ap: 1.00e+00 Pobj: -3.3337672e+00 Ad: 7.57e-01 Dobj: -2.2240045e-01 \n",
      "Iter: 10 Ap: 1.00e+00 Pobj: -7.4001880e-01 Ad: 8.74e-01 Dobj: -2.2540828e-01 \n",
      "Iter: 11 Ap: 1.00e+00 Pobj: -4.5809937e-01 Ad: 8.66e-01 Dobj: -2.4239725e-01 \n",
      "Iter: 12 Ap: 1.00e+00 Pobj: -3.8881550e-01 Ad: 7.76e-01 Dobj: -2.5822675e-01 \n",
      "Iter: 13 Ap: 1.00e+00 Pobj: -3.4520005e-01 Ad: 1.00e+00 Dobj: -2.7909944e-01 \n",
      "Iter: 14 Ap: 1.00e+00 Pobj: -3.1768479e-01 Ad: 1.00e+00 Dobj: -2.8967201e-01 \n",
      "Iter: 15 Ap: 1.00e+00 Pobj: -3.1044624e-01 Ad: 1.00e+00 Dobj: -2.9723490e-01 \n",
      "Iter: 16 Ap: 1.00e+00 Pobj: -3.0565833e-01 Ad: 1.00e+00 Dobj: -3.0242877e-01 \n",
      "Iter: 17 Ap: 1.00e+00 Pobj: -3.0476519e-01 Ad: 1.00e+00 Dobj: -3.0415733e-01 \n",
      "Iter: 18 Ap: 1.00e+00 Pobj: -3.0462289e-01 Ad: 1.00e+00 Dobj: -3.0455965e-01 \n",
      "Iter: 19 Ap: 1.00e+00 Pobj: -3.0461068e-01 Ad: 1.00e+00 Dobj: -3.0459805e-01 \n",
      "Iter: 20 Ap: 6.27e-01 Pobj: -3.0460963e-01 Ad: 1.00e+00 Dobj: -3.0460224e-01 \n",
      "Iter: 21 Ap: 1.00e+00 Pobj: -3.0460731e-01 Ad: 1.00e+00 Dobj: -3.0460665e-01 \n",
      "Iter: 22 Ap: 1.00e+00 Pobj: -3.0460693e-01 Ad: 9.95e-01 Dobj: -3.0460673e-01 \n",
      "Iter: 23 Ap: 1.00e+00 Pobj: -3.0460685e-01 Ad: 9.89e-01 Dobj: -3.0460684e-01 \n",
      "Iter: 24 Ap: 9.60e-01 Pobj: -3.0460685e-01 Ad: 9.50e-01 Dobj: -3.0460685e-01 \n",
      "Success: SDP solved\n",
      "Primal objective value: -3.0460685e-01 \n",
      "Dual objective value: -3.0460685e-01 \n",
      "Relative primal infeasibility: 1.83e-13 \n",
      "Relative dual infeasibility: 1.41e-10 \n",
      "Real Relative Gap: 3.71e-10 \n",
      "XZ Relative Gap: 8.25e-10 \n",
      "DIMACS error measures: 4.53e-13 0.00e+00 3.87e-10 0.00e+00 3.71e-10 8.25e-10\n",
      "Flattening X matrices\n",
      "This took 0.4948904514312744s\n",
      "Correcting flat X matrices\n",
      "Dimensions:  (5, 283)\n",
      "This took 0.010245323181152344s\n",
      "Unflattening X matrices\n",
      "Linear coefficient is negative: -68663/76800\n",
      "This took 0.00052642822265625s\n",
      "Calculating resulting bound\n"
     ]
    },
    {
     "name": "stderr",
     "output_type": "stream",
     "text": [
      "100%|██████████████████████████████████████████████████████████████████████████████████| 4/4 [00:00<00:00, 13.20it/s]"
     ]
    },
    {
     "name": "stdout",
     "output_type": "stream",
     "text": [
      "This took 0.3069453239440918s\n"
     ]
    },
    {
     "name": "stderr",
     "output_type": "stream",
     "text": [
      "\n"
     ]
    },
    {
     "data": {
      "text/plain": [
       "152/499"
      ]
     },
     "execution_count": 1,
     "metadata": {},
     "output_type": "execute_result"
    }
   ],
   "source": [
    "FiveGraphTheory = Theory(\"FiveGraph\", arity=5)\n",
    "\n",
    "T54 = FiveGraphTheory.p(7, edges=[[0, 1, 2, 3, 4], [0, 1, 2, 5, 6], [0, 3, 4, 5, 6]])\n",
    "edge = FiveGraphTheory(5, edges = [[0, 1, 2, 3, 4]])\n",
    "\n",
    "FiveGraphTheory.exclude([T54])\n",
    "\n",
    "FiveGraphTheory.optimize(edge, 7,  exact=True,  file=\"FiveGraph_T54_opt\", construction=[],\n",
    "              denom=1024*15*3*5, slack_threshold=1e-6\n",
    "             )"
   ]
  }
 ],
 "metadata": {
  "kernelspec": {
   "display_name": "SageMath 10.5.beta7",
   "language": "sage",
   "name": "sagemath"
  },
  "language_info": {
   "codemirror_mode": {
    "name": "ipython",
    "version": 3
   },
   "file_extension": ".py",
   "mimetype": "text/x-python",
   "name": "python",
   "nbconvert_exporter": "python",
   "pygments_lexer": "ipython3",
   "version": "3.10.12"
  }
 },
 "nbformat": 4,
 "nbformat_minor": 5
}
